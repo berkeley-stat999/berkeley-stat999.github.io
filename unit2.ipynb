{
 "cells": [
  {
   "cell_type": "markdown",
   "id": "c6602a53-290b-46de-9c0c-4f6f31e37c25",
   "metadata": {},
   "source": [
    "---\n",
    "title: \"Unit 2: Notebook\"\n",
    "math:\n",
    "  '\\trans': '^\\mathsf{T}'\n",
    "  '\\eps': '\\epsilon'\n",
    "---"
   ]
  },
  {
   "cell_type": "markdown",
   "id": "28cedc95-6340-4cdc-9a79-e58a750146d4",
   "metadata": {},
   "source": [
    ":::{tip}\n",
    "Code cells in this notebook are executed when the file is prepared with Jupyter Notebook or Lab. They may also be executed live with JupyterLite! (although the feature is in development)\n",
    ":::"
   ]
  },
  {
   "cell_type": "markdown",
   "id": "a2bdb719-2d6f-4154-82be-e58ec6b58054",
   "metadata": {},
   "source": [
    "This is the mean of some random numbers using numpy."
   ]
  },
  {
   "cell_type": "code",
   "execution_count": 1,
   "id": "c62b93b2-c991-444b-9231-990d4ff8e4db",
   "metadata": {},
   "outputs": [
    {
     "data": {
      "image/png": "[encoded data removed]",
      "text/plain": [
       "<Figure size 640x480 with 1 Axes>"
      ]
     },
     "metadata": {},
     "output_type": "display_data"
    },
    {
     "data": {
      "text/plain": [
       "-0.1701530565922348"
      ]
     },
     "execution_count": 1,
     "metadata": {},
     "output_type": "execute_result"
    }
   ],
   "source": [
    "import numpy as np\n",
    "x = np.random.normal(size=100)\n",
    "import matplotlib.pyplot as plt\n",
    "plt.hist(x)\n",
    "plt.show()\n",
    "np.mean(x)"
   ]
  },
  {
   "cell_type": "markdown",
   "id": "cb282ac2-7116-4205-8106-38005d53a3df",
   "metadata": {},
   "source": [
    "$$\n",
    "\\theta = \\int_0^\\infty f(x,\\theta)d\\theta\n",
    "$$"
   ]
  },
  {
   "cell_type": "markdown",
   "id": "5a81e150-3c48-4076-9a2d-fbf11a9a4f6a",
   "metadata": {},
   "source": [
    "Use a $\\LaTeX$ macro."
   ]
  },
  {
   "cell_type": "markdown",
   "id": "f2222140-5864-4d61-a89b-2b51a7ab76a0",
   "metadata": {},
   "source": [
    "$$\n",
    "A = X \\trans Y\n",
    "$$"
   ]
  }
 ],
 "metadata": {
  "kernelspec": {
   "display_name": "Python 3 (ipykernel)",
   "language": "python",
   "name": "python3"
  },
  "language_info": {
   "codemirror_mode": {
    "name": "ipython",
    "version": 3
   },
   "file_extension": ".py",
   "mimetype": "text/x-python",
   "name": "python",
   "nbconvert_exporter": "python",
   "pygments_lexer": "ipython3",
   "version": "3.11.0"
  }
 },
 "nbformat": 4,
 "nbformat_minor": 5
}
